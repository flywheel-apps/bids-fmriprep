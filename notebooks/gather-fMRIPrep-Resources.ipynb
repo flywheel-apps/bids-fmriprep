{
 "cells": [
  {
   "cell_type": "code",
   "execution_count": null,
   "metadata": {},
   "outputs": [],
   "source": [
    "import time\n",
    "import numpy as np\n",
    "import pandas as pd\n",
    "from matplotlib import pyplot as plt\n",
    "import flywheel\n",
    "\n",
    "def get_resources(fw, series, jobs):\n",
    "    for job in jobs:\n",
    "        print(job.id, job.destination.id)\n",
    "        # time.sleep(1)  # might help for slow VPNs\n",
    "        try:\n",
    "            analysis = fw.get_analysis(job.destination.id)\n",
    "            group_id = analysis.parents.group\n",
    "            project_label = fw.get_project(analysis.parents.project).label\n",
    "            if analysis.parents.session:\n",
    "                session_label = fw.get_session(analysis.parents.session).label\n",
    "            else:\n",
    "                session_label = \"none\"\n",
    "            if analysis.parents.subject:\n",
    "                subject_label = fw.get_subject(analysis.parents.subject).label\n",
    "            else:\n",
    "                subject_label = \"none\"\n",
    "            if 'resources used' in analysis.info:\n",
    "                row = {'job_id': job.id,\n",
    "                       'job_created': job.created,\n",
    "                       'group_id': group_id, \n",
    "                       'project_label': project_label, \n",
    "                       'subject_label': subject_label, \n",
    "                       'session_label': session_label, \n",
    "                       'analysis_id': analysis.id, \n",
    "                       'gear_name':analysis['gear_info']['name'], \n",
    "                       'gear_version':analysis['gear_info']['version']}\n",
    "                row.update(pd.Series(analysis.info['resources used']))\n",
    "                series.append(row)\n",
    "        except Exception as e:\n",
    "            print(\"oops\", str(e))\n",
    "    print(f'Found {len(series)} gear runs with resource data')\n",
    "    df = pd.DataFrame(series)\n",
    "    return series, df\n",
    "\n",
    "def get_job_resources(gear_name):\n",
    "    fw = flywheel.Client()\n",
    "    print(fw.get_config().site.api_url)\n",
    "    series = []\n",
    "    jobs = fw.jobs.find(f'gear_info.name={gear_name}', limit=5000)\n",
    "    print(f\"found {len(jobs)} {gear_name} jobs\")\n",
    "    series, df = get_resources(fw, series, jobs)\n",
    "    return df"
   ]
  },
  {
   "cell_type": "code",
   "execution_count": null,
   "metadata": {},
   "outputs": [],
   "source": [
    "df = get_job_resources(\"bids-fmriprep\")\n",
    "df[[\"job_created\",\n",
    "    \"project_label\",\n",
    "    \"subject_label\",\n",
    "    \"session_label\",\n",
    "    \"Maximum resident set size (kbytes)\", \n",
    "    \"Exit status\", \n",
    "    \"Elapsed (wall clock) time (h:mm:ss or m:ss)\", \n",
    "    \"File system inputs\", \n",
    "    \"File system outputs\", \n",
    "    \"Percent of CPU this job got\", \n",
    "    \"Swaps\"]]"
   ]
  },
  {
   "cell_type": "code",
   "execution_count": null,
   "metadata": {},
   "outputs": [],
   "source": [
    "df.to_csv('fMRIPrep_Resources.tsv', sep='\\t', encoding='utf-8')"
   ]
  }
 ],
 "metadata": {
  "kernelspec": {
   "display_name": "Python 3",
   "language": "python",
   "name": "python3"
  },
  "language_info": {
   "codemirror_mode": {
    "name": "ipython",
    "version": 3
   },
   "file_extension": ".py",
   "mimetype": "text/x-python",
   "name": "python",
   "nbconvert_exporter": "python",
   "pygments_lexer": "ipython3",
   "version": "3.9.8"
  }
 },
 "nbformat": 4,
 "nbformat_minor": 4
}
